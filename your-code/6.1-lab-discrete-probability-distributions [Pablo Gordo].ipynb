{
 "cells": [
  {
   "cell_type": "markdown",
   "metadata": {},
   "source": [
    "# Before your start:\n",
    "\n",
    "    Read the README.md file\n",
    "    Comment as much as you can and use the resources (README.md file)\n",
    "    Happy learning!\n",
    "\n",
    "*Notes:* \n",
    "\n",
    "- Solve the questions with python.\n",
    "\n",
    "- Round the final answer to three decimal places."
   ]
  },
  {
   "cell_type": "markdown",
   "metadata": {},
   "source": [
    "## Bernoulli's Distribution\n",
    "\n",
    "In a basket containing 100 fruits, there are 60 apples and 40 oranges. \n",
    "\n",
    "A fruit is picked randomly from the basket. \n",
    "\n",
    "1. **What is the probability that the fruit is apple?**\n",
    "1. **What is the probability that it is an orange?**\n",
    "\n",
    "\n",
    "________\n",
    "\n",
    "\n",
    " Distribución de Bernoulli\n",
    "En una canasta que contiene 100 frutas, hay 60 manzanas y 40 naranjas.\n",
    "\n",
    "Se recoge una fruta al azar de la canasta.\n",
    "\n",
    "¿Cuál es la probabilidad de que la fruta sea manzana?\n",
    "¿Cuál es la probabilidad de que sea naranja?"
   ]
  },
  {
   "cell_type": "code",
   "execution_count": 20,
   "metadata": {},
   "outputs": [
    {
     "name": "stdout",
     "output_type": "stream",
     "text": [
      "La probabilidad de sacar una manzana es de 0.56,mientras que la probabilidad de sacar una naranja es de 0.43999999999999995\n"
     ]
    }
   ],
   "source": [
    "from scipy.stats import bernoulli\n",
    "from scipy.stats import binom\n",
    "\n",
    "\n",
    "\"\"\"\n",
    "Calculate:\n",
    "p = probability that the fruit is an apple \n",
    "q = probability that the fruit is an orange\n",
    "\"\"\"\n",
    "p=0.6 #manzanas\n",
    "q = 0.4 #naranjas\n",
    "\n",
    "manzanas = bernoulli(p)\n",
    "manzanas\n",
    "\n",
    "muestra=manzanas.rvs(size=100)\n",
    "\n",
    "\n",
    "q1 = sum(muestra)/len(muestra)\n",
    "q2 = 1-q1\n",
    "\n",
    "print(f\"La probabilidad de sacar una manzana es de {q1},\\\n",
    "mientras que la probabilidad de sacar una naranja es de {q2}\")"
   ]
  },
  {
   "cell_type": "markdown",
   "metadata": {},
   "source": [
    "Now we take a random sample of 20 fruits from the basket. After each fruit is taken, a new fruit of the same type is replaced in the basket. Therefore, every time we are taking 1 fruit from 100 fruits. \n",
    "\n",
    "1. **What is the probability that the first 5 fruits are all apples?**\n",
    "\n",
    "1. **What is the probability that the first 5 fruits are all apples and the next 15 fruits are all oranges?**\n",
    "\n",
    "You can include the `p` and `q` probabilities you previous calculated in your solution.\n",
    "\n",
    "________\n",
    "\n",
    " Ahora tomamos una muestra aleatoria de 20 frutas de la canasta. Después de tomar cada fruta, se reemplaza una nueva fruta del mismo tipo en la canasta. Por lo tanto, cada vez que tomamos 1 fruta de 100 frutas.  ¿Cuál es la probabilidad de que las primeras 5 frutas sean todas manzanas?  ¿Cuál es la probabilidad de que las primeras 5 frutas sean todas manzanas y las siguientes 15 frutas sean todas naranjas?  Puede incluir las probabilidades p y q que calculó anteriormente en su solución."
   ]
  },
  {
   "cell_type": "code",
   "execution_count": 24,
   "metadata": {},
   "outputs": [
    {
     "name": "stdout",
     "output_type": "stream",
     "text": [
      "la probabilidad de sacar 5 manzanas seguidas es de 0.05507317760000002,y de que las siguientes 15 sean naranjas es de 2.470189562499189e-07\n"
     ]
    }
   ],
   "source": [
    "from scipy.stats import binom\n",
    "\n",
    "q21 = binom.pmf(5, 5, q1)\n",
    "\n",
    "q22 = q21 * binom.pmf(15, 15, q2)\n",
    "\n",
    "print(f\"la probabilidad de sacar 5 manzanas seguidas es de {q21},\\\n",
    "y de que las siguientes 15 sean naranjas es de {q22}\")\n",
    "\n"
   ]
  },
  {
   "cell_type": "markdown",
   "metadata": {},
   "source": [
    "## Binomial Distribution\n",
    "\n",
    "Similar to the above problem, this time again we randomly sample 20 fruits.\n",
    "\n",
    "**What is the probability that this time the sample contains 5 apples and 15 oranges?**\n",
    "\n",
    "Please note that this time the order of the fruits being picked does not matter.\n",
    "\n",
    "_______\n",
    "\n",
    "Distribución binomial Similar al problema anterior, esta vez nuevamente muestreamos aleatoriamente 20 frutas.  \n",
    " **Cuál es la probabilidad de que esta vez la muestra contenga 5 manzanas y 15 naranjas?**  Tenga en cuenta que esta vez el orden de las frutas que se recogen no importa."
   ]
  },
  {
   "cell_type": "code",
   "execution_count": 26,
   "metadata": {},
   "outputs": [
    {
     "name": "stdout",
     "output_type": "stream",
     "text": [
      "la probabilidad de sacar 5 manzanas y 15 naranjas es de 1.4667229383941055e-05\n"
     ]
    }
   ],
   "source": [
    "q31 = binom.pmf(5, 20, q1)\n",
    "\n",
    "q32 = q31 * binom.pmf(15, 20, q2)\n",
    "\n",
    "print(f\"la probabilidad de sacar 5 manzanas y 15 naranjas es de {q32}\")"
   ]
  },
  {
   "cell_type": "markdown",
   "metadata": {},
   "source": [
    "In the lesson we also discussed CDF (cumulative distribution function). In the context of the above problem, **what is the probability that less than 5 fruits picked are apples?**\n",
    "\n",
    "Write the formula and calculate the probability below.\n",
    "____\n",
    "\n",
    " En la lección también discutimos la función de distribución acumulativa CDF ( ). En el contexto del problema anterior, ¿cuál es la probabilidad de que menos de 5 frutas recogidas sean manzanas?  Escriba la fórmula y calcule la probabilidad a continuación."
   ]
  },
  {
   "cell_type": "code",
   "execution_count": 35,
   "metadata": {},
   "outputs": [
    {
     "name": "stdout",
     "output_type": "stream",
     "text": [
      "la probabilidad de que salgan menos de 5 manzanas es de: 0.0011389164925611993\n"
     ]
    }
   ],
   "source": [
    "q41 = binom.cdf(4, 20, q1)\n",
    "print(f\"la probabilidad de que salgan menos de 5 manzanas es de: {q41}\")"
   ]
  },
  {
   "cell_type": "markdown",
   "metadata": {},
   "source": [
    "**Plot the PMF (probability distributiom function) for the above binomial distribution.**\n",
    "\n",
    "*Hint: The range of x in a binomial distribution is from `0` to `n`.*\n",
    "\n",
    "___\n",
    "\n",
    " Trace la función de distribución de probabilidad PMF ( ) para la distribución binomial anterior.  Sugerencia: El rango de x en una distribución binomial es de 0 a n."
   ]
  },
  {
   "cell_type": "code",
   "execution_count": 37,
   "metadata": {},
   "outputs": [
    {
     "data": {
      "image/png": "[encoded data removed]",
      "text/plain": [
       "<Figure size 432x288 with 1 Axes>"
      ]
     },
     "metadata": {
      "needs_background": "light"
     },
     "output_type": "display_data"
    }
   ],
   "source": [
    "import pylab as plt\n",
    "x=[i for i in range(100)]  \n",
    "y=[nbinom.pmf(x, 20, q1) for x in x] \n",
    "\n",
    "plt.plot(x, y);"
   ]
  },
  {
   "cell_type": "markdown",
   "metadata": {},
   "source": [
    "## Poisson Distribution\n",
    "\n",
    "In this challenge you are required to use the Math library in python to solve the problems.\n",
    "\n",
    "In the UEFA champions league tournament, the average number of goals scored in a match is 2.3. \n",
    "\n",
    "**What is the probability that the number of goals scored in a match is 5?**\n",
    "\n",
    "*Hint: Use the exp() in the math library*\n",
    "\n",
    "And to calculate the factorial, you can use the following code:\n",
    "\n",
    "```python\n",
    "import math\n",
    "math.factorial(n) # n is the number you want to find the factorial of\n",
    "```\n",
    "\n",
    "________\n",
    "\n",
    " Distribución de Poisson \n",
    " En este desafío, debe usar la biblioteca de matemáticas en pitón para resolver los problemas.  \n",
    " En el torneo de la liga de campeones de la UEFA, el número promedio de goles marcados en un partido es de 2.3.  \n",
    " ¿Cuál es la probabilidad de que el número de goles marcados en un partido sea 5?  Sugerencia: Use el exp ( ) en la biblioteca de matemáticas Y para calcular el factorial, puede usar el siguiente código: importar matemáticas"
   ]
  },
  {
   "cell_type": "code",
   "execution_count": 40,
   "metadata": {},
   "outputs": [
    {
     "data": {
      "text/plain": [
       "0.053775025581946814"
      ]
     },
     "execution_count": 40,
     "metadata": {},
     "output_type": "execute_result"
    }
   ],
   "source": [
    "from scipy.stats import poisson\n",
    "\n",
    "A = poisson.pmf(5, 2.3)\n",
    "A"
   ]
  },
  {
   "cell_type": "markdown",
   "metadata": {},
   "source": [
    "**Draw a poisson probability distribution plot for the number of goals to be between 0 to 10.**"
   ]
  },
  {
   "cell_type": "code",
   "execution_count": 43,
   "metadata": {},
   "outputs": [
    {
     "data": {
      "image/png": "[encoded data removed]",
      "text/plain": [
       "<Figure size 432x288 with 1 Axes>"
      ]
     },
     "metadata": {
      "needs_background": "light"
     },
     "output_type": "display_data"
    }
   ],
   "source": [
    "x=[i for i in range(10)]  \n",
    "y=[poisson.pmf(x, 2.3) for x in x] \n",
    "\n",
    "plt.plot(x, y);"
   ]
  },
  {
   "cell_type": "code",
   "execution_count": null,
   "metadata": {},
   "outputs": [],
   "source": []
  }
 ],
 "metadata": {
  "kernelspec": {
   "display_name": "Python 3 (ipykernel)",
   "language": "python",
   "name": "python3"
  },
  "language_info": {
   "codemirror_mode": {
    "name": "ipython",
    "version": 3
   },
   "file_extension": ".py",
   "mimetype": "text/x-python",
   "name": "python",
   "nbconvert_exporter": "python",
   "pygments_lexer": "ipython3",
   "version": "3.9.12"
  }
 },
 "nbformat": 4,
 "nbformat_minor": 2
}
